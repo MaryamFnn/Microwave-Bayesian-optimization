{
 "cells": [
  {
   "cell_type": "code",
   "execution_count": 1,
   "id": "0c5692dd",
   "metadata": {},
   "outputs": [
    {
     "name": "stdout",
     "output_type": "stream",
     "text": [
      "The Zen of Python, by Tim Peters\n",
      "\n",
      "Beautiful is better than ugly.\n",
      "Explicit is better than implicit.\n",
      "Simple is better than complex.\n",
      "Complex is better than complicated.\n",
      "Flat is better than nested.\n",
      "Sparse is better than dense.\n",
      "Readability counts.\n",
      "Special cases aren't special enough to break the rules.\n",
      "Although practicality beats purity.\n",
      "Errors should never pass silently.\n",
      "Unless explicitly silenced.\n",
      "In the face of ambiguity, refuse the temptation to guess.\n",
      "There should be one-- and preferably only one --obvious way to do it.\n",
      "Although that way may not be obvious at first unless you're Dutch.\n",
      "Now is better than never.\n",
      "Although never is often better than *right* now.\n",
      "If the implementation is hard to explain, it's a bad idea.\n",
      "If the implementation is easy to explain, it may be a good idea.\n",
      "Namespaces are one honking great idea -- let's do more of those!\n"
     ]
    },
    {
     "ename": "ModuleNotFoundError",
     "evalue": "No module named 'microwaveopt'",
     "output_type": "error",
     "traceback": [
      "\u001b[1;31m---------------------------------------------------------------------------\u001b[0m",
      "\u001b[1;31mModuleNotFoundError\u001b[0m                       Traceback (most recent call last)",
      "Input \u001b[1;32mIn [1]\u001b[0m, in \u001b[0;36m<cell line: 5>\u001b[1;34m()\u001b[0m\n\u001b[0;32m      2\u001b[0m \u001b[38;5;28;01mfrom\u001b[39;00m \u001b[38;5;21;01mxmlrpc\u001b[39;00m\u001b[38;5;21;01m.\u001b[39;00m\u001b[38;5;21;01mserver\u001b[39;00m \u001b[38;5;28;01mimport\u001b[39;00m list_public_methods\n\u001b[0;32m      4\u001b[0m \u001b[38;5;28;01mfrom\u001b[39;00m \u001b[38;5;21;01mmatplotlib\u001b[39;00m \u001b[38;5;28;01mimport\u001b[39;00m cm\n\u001b[1;32m----> 5\u001b[0m \u001b[38;5;28;01mimport\u001b[39;00m \u001b[38;5;21;01mblackboxzig\u001b[39;00m\n\u001b[0;32m      6\u001b[0m \u001b[38;5;28;01mimport\u001b[39;00m \u001b[38;5;21;01mobj_fun\u001b[39;00m\n\u001b[0;32m      7\u001b[0m \u001b[38;5;28;01mimport\u001b[39;00m \u001b[38;5;21;01mnumpy\u001b[39;00m \u001b[38;5;28;01mas\u001b[39;00m \u001b[38;5;21;01mnp\u001b[39;00m\n",
      "File \u001b[1;32m~\\Desktop\\Sources\\Main_projects\\Microwave-Bayesian-Optimization\\src\\ZigZagFilter\\blackboxzig.py:9\u001b[0m, in \u001b[0;36m<module>\u001b[1;34m\u001b[0m\n\u001b[0;32m      7\u001b[0m \u001b[38;5;28;01mfrom\u001b[39;00m \u001b[38;5;21;01mshapely\u001b[39;00m\u001b[38;5;21;01m.\u001b[39;00m\u001b[38;5;21;01mgeometry\u001b[39;00m \u001b[38;5;28;01mimport\u001b[39;00m Polygon\n\u001b[0;32m      8\u001b[0m \u001b[38;5;28;01mfrom\u001b[39;00m \u001b[38;5;21;01mshapely\u001b[39;00m \u001b[38;5;28;01mimport\u001b[39;00m affinity\n\u001b[1;32m----> 9\u001b[0m \u001b[38;5;28;01mfrom\u001b[39;00m \u001b[38;5;21;01mmicrowaveopt\u001b[39;00m\u001b[38;5;21;01m.\u001b[39;00m\u001b[38;5;21;01mmomentum\u001b[39;00m\u001b[38;5;21;01m.\u001b[39;00m\u001b[38;5;21;01mdesign\u001b[39;00m \u001b[38;5;28;01mimport\u001b[39;00m Design\n\u001b[0;32m     10\u001b[0m \u001b[38;5;28;01mfrom\u001b[39;00m \u001b[38;5;21;01mmicrowaveopt\u001b[39;00m\u001b[38;5;21;01m.\u001b[39;00m\u001b[38;5;21;01mmomentum\u001b[39;00m\u001b[38;5;21;01m.\u001b[39;00m\u001b[38;5;21;01mem_setup\u001b[39;00m \u001b[38;5;28;01mimport\u001b[39;00m Sampling\n\u001b[0;32m     11\u001b[0m \u001b[38;5;28;01mfrom\u001b[39;00m \u001b[38;5;21;01mmicrowaveopt\u001b[39;00m\u001b[38;5;21;01m.\u001b[39;00m\u001b[38;5;21;01mem_lib\u001b[39;00m \u001b[38;5;28;01mimport\u001b[39;00m filtering\n",
      "\u001b[1;31mModuleNotFoundError\u001b[0m: No module named 'microwaveopt'"
     ]
    }
   ],
   "source": [
    "from turtle import color\n",
    "from xmlrpc.server import list_public_methods\n",
    "\n",
    "from matplotlib import cm\n",
    "import blackboxzig\n",
    "import obj_fun\n",
    "import numpy as np\n",
    "import matplotlib.pyplot as plt\n",
    "from scipy.stats import qmc\n",
    "from mpl_toolkits import mplot3d\n",
    "from mpl_toolkits.mplot3d import Axes3D\n",
    "from scipy.stats import multivariate_normal\n",
    "##---------------------------------------------\n",
    "import torch\n",
    "from botorch.models import SingleTaskGP\n",
    "from botorch.fit import fit_gpytorch_model\n",
    "from botorch.utils import standardize\n",
    "from gpytorch.mlls import ExactMarginalLogLikelihood\n",
    "from botorch.optim import optimize_acqf\n",
    "from math import dist\n",
    "from scipy.interpolate import griddata\n",
    "import os\n",
    "os.environ['KMP_DUPLICATE_LIB_OK']='True'"
   ]
  },
  {
   "cell_type": "code",
   "execution_count": 21,
   "id": "6d47ed71",
   "metadata": {},
   "outputs": [
    {
     "name": "stdout",
     "output_type": "stream",
     "text": [
      "[[10.364556    1.19780221]\n",
      " [22.94037823  0.87362452]\n",
      " [24.93260149  0.54058461]\n",
      " [18.89700863  0.3369358 ]\n",
      " [ 7.30597583  0.78267664]\n",
      " [ 6.15310069  1.08765088]\n",
      " [14.50930841  0.63946693]\n",
      " [15.09679969  0.67687673]\n",
      " [19.59635376  0.97046848]\n",
      " [12.49543869  0.42215703]]\n"
     ]
    }
   ],
   "source": [
    "#create initial data (10 pairs of parameters)\n",
    "init_sample_num =10\n",
    "input_dim = 2\n",
    "bounds = np.array([[5,25],[0.3,1.2]])\n",
    "sampler = qmc.LatinHypercube(d=input_dim)\n",
    "init_points_normalized = sampler.random(n=init_sample_num)\n",
    "init_points = (init_points_normalized * (bounds[:,1] - bounds[:,0]).T) + bounds[:,0].T\n",
    "print(init_points)\n"
   ]
  },
  {
   "cell_type": "code",
   "execution_count": 22,
   "id": "15a0b525",
   "metadata": {
    "scrolled": true
   },
   "outputs": [
    {
     "name": "stdout",
     "output_type": "stream",
     "text": [
      "------ RUNNING MOMENTUM SIMULATION ------\n",
      "------ COMPLETED ------\n",
      "------ RUNNING MOMENTUM SIMULATION ------\n",
      "------ COMPLETED ------\n",
      "------ RUNNING MOMENTUM SIMULATION ------\n",
      "------ COMPLETED ------\n",
      "------ RUNNING MOMENTUM SIMULATION ------\n",
      "------ COMPLETED ------\n",
      "------ RUNNING MOMENTUM SIMULATION ------\n",
      "------ COMPLETED ------\n",
      "------ RUNNING MOMENTUM SIMULATION ------\n",
      "------ COMPLETED ------\n",
      "------ RUNNING MOMENTUM SIMULATION ------\n",
      "------ COMPLETED ------\n",
      "------ RUNNING MOMENTUM SIMULATION ------\n",
      "------ COMPLETED ------\n",
      "------ RUNNING MOMENTUM SIMULATION ------\n",
      "------ COMPLETED ------\n",
      "------ RUNNING MOMENTUM SIMULATION ------\n",
      "------ COMPLETED ------\n"
     ]
    }
   ],
   "source": [
    "init_values =obj_fun.obj_fun(x=init_points, debug=False)\n",
    "#Save initial samples\n",
    "init_samples = np.hstack((init_points, init_values))"
   ]
  },
  {
   "cell_type": "code",
   "execution_count": 23,
   "id": "9c8c79db",
   "metadata": {},
   "outputs": [],
   "source": [
    "train_X = torch.Tensor(init_samples[:,:-1])\n",
    "train_Y = torch.Tensor(init_samples[:,-1].reshape(-1,1))"
   ]
  },
  {
   "cell_type": "code",
   "execution_count": 24,
   "id": "07be6c04",
   "metadata": {},
   "outputs": [
    {
     "name": "stdout",
     "output_type": "stream",
     "text": [
      "torch.Size([10, 2])\n",
      "torch.Size([10, 1])\n",
      "------ RUNNING MOMENTUM SIMULATION ------\n",
      "------ COMPLETED ------\n",
      "0\n",
      "------ RUNNING MOMENTUM SIMULATION ------\n",
      "------ COMPLETED ------\n",
      "1\n",
      "------ RUNNING MOMENTUM SIMULATION ------\n",
      "------ COMPLETED ------\n",
      "2\n",
      "------ RUNNING MOMENTUM SIMULATION ------\n",
      "------ COMPLETED ------\n",
      "3\n",
      "------ RUNNING MOMENTUM SIMULATION ------\n",
      "------ COMPLETED ------\n",
      "4\n",
      "------ RUNNING MOMENTUM SIMULATION ------\n",
      "------ COMPLETED ------\n",
      "5\n",
      "------ RUNNING MOMENTUM SIMULATION ------\n",
      "------ COMPLETED ------\n",
      "6\n",
      "------ RUNNING MOMENTUM SIMULATION ------\n",
      "------ COMPLETED ------\n",
      "7\n",
      "------ RUNNING MOMENTUM SIMULATION ------\n",
      "------ COMPLETED ------\n",
      "8\n",
      "------ RUNNING MOMENTUM SIMULATION ------\n",
      "------ COMPLETED ------\n",
      "9\n"
     ]
    }
   ],
   "source": [
    "print(train_X.shape)\n",
    "print(train_Y.shape)\n",
    "iteretion =10;\n",
    "ph=[25,1.2]\n",
    "pl=[5,.3]\n",
    "ps=[18.678,0.79]\n",
    "regret=[]\n",
    "counter=[]\n",
    "for i in range(iteretion):\n",
    "\n",
    "    count =i\n",
    "\n",
    "    train_Y_norm = (train_Y - train_Y.mean()) / train_Y.std() # normalize values\n",
    "    gp = SingleTaskGP(train_X, train_Y_norm)\n",
    "    mll = ExactMarginalLogLikelihood(gp.likelihood, gp)\n",
    "    fit_gpytorch_model(mll)\n",
    "\n",
    "\n",
    "# Compute acquisition function\n",
    "    from botorch.acquisition import UpperConfidenceBound\n",
    "    UCB = UpperConfidenceBound(gp, beta=0.1)\n",
    "\n",
    "    # Maximize acquisition function\n",
    "    acq_bounds = torch.Tensor(bounds.T)  # convert input bounds for the acquisition function\n",
    "    next_point, acq_value = optimize_acqf(UCB, bounds=acq_bounds, q=1, num_restarts=5, raw_samples=20,)\n",
    "\n",
    "    # Compute objective values at the next candidate point\n",
    "    next_value = obj_fun.obj_fun(next_point, debug=False)\n",
    "    next_value = torch.Tensor(next_value)\n",
    "\n",
    "    # Add next sample to the dataset\n",
    "    train_X = torch.vstack((train_X, next_point))\n",
    "    train_Y = torch.vstack((train_Y, next_value))\n",
    "    print (count)\n",
    "\n",
    "    #Regret\n",
    "    y_opt_idx = np.argmax(train_Y.numpy())\n",
    "    y_opt= np.max(train_Y.numpy())\n",
    "    x_opt = train_X.numpy()[y_opt_idx]\n",
    "    regret.append(dist(x_opt,ps)/dist(ph,pl))\n",
    "    counter.append(count)\n",
    "\n",
    "plt.figure()\n",
    "plt.plot(counter,regret)\n",
    "plt.savefig(f\".\\\\figures\\\\Regret1.png\")"
   ]
  },
  {
   "cell_type": "code",
   "execution_count": 17,
   "id": "e111171b",
   "metadata": {},
   "outputs": [
    {
     "name": "stdout",
     "output_type": "stream",
     "text": [
      "------ RUNNING MOMENTUM SIMULATION ------\n",
      "------ COMPLETED ------\n"
     ]
    }
   ],
   "source": [
    "y_opt_idx = np.argmax(train_Y.numpy())\n",
    "y_opt= np.max(train_Y.numpy())\n",
    "x_opt = train_X.numpy()[y_opt_idx]\n",
    "f ,s21 = blackboxzig.blackbox(x_opt, debug=True, simm='linear',fmin = 1 , fmax = 4)\n",
    "plt.plot(f, 20*np.log10(np.abs(s21)))\n",
    "plt.savefig(f\".\\\\figures\\\\BestSolution.png\")\n",
    "with open (\"BestSolution.txt\",'a') as O:\n",
    "            O.write(f\"Best solution found: x={x_opt}, y={y_opt}\")"
   ]
  },
  {
   "cell_type": "code",
   "execution_count": 25,
   "id": "f5ffac74",
   "metadata": {},
   "outputs": [],
   "source": [
    "#prediction\n",
    "#create new inputs\n",
    "init_sample_num =4000\n",
    "input_dim = 2\n",
    "\n",
    "bounds = np.array([[5,25],[0.3,1.2]])\n",
    "sampler = qmc.LatinHypercube(d=input_dim)\n",
    "init_points_normalized = sampler.random(n=init_sample_num)\n",
    "init_points = (init_points_normalized * (bounds[:,1] - bounds[:,0]).T) + bounds[:,0].T\n",
    "test_X = torch.Tensor(init_points)\n",
    "\n",
    "gp.eval()\n",
    "posterior = gp.posterior(test_X)\n",
    "a=posterior.mean.cpu()\n",
    "a = a.detach().numpy()\n",
    "\n",
    "L_grid = np.linspace(5,25,200)\n",
    "G_grid = np.linspace(.3,1.2,200)\n",
    "L_mesh,G_mesh = np.meshgrid(L_grid,G_grid)\n",
    "\n",
    "\n",
    "z_grid = griddata(test_X,a.flatten(),(L_mesh,G_mesh), method = 'linear')\n",
    "\n",
    "%matplotlib qt \n",
    "fig = plt.figure()\n",
    "ax =plt.axes(projection='3d', computed_zorder=False)\n",
    "ax.plot_surface(L_mesh,G_mesh,z_grid,cmap=cm.coolwarm, alpha=0.8,zorder=-1)\n",
    "ax.set_xlabel('L(mm)')\n",
    "ax.set_ylabel('G(mm)')\n",
    "ax.set_zlabel('E[q]')\n",
    "ax.set_zlim3d(-10,0)\n",
    "ax.scatter( train_X[:,0], train_X[:,1], train_Y,color='k')\n",
    "\n",
    "plt.savefig(f\".\\\\figures\\\\fig4.png\")"
   ]
  },
  {
   "cell_type": "code",
   "execution_count": null,
   "id": "7419681e",
   "metadata": {},
   "outputs": [],
   "source": []
  },
  {
   "cell_type": "code",
   "execution_count": null,
   "id": "dd2967d0",
   "metadata": {},
   "outputs": [],
   "source": []
  }
 ],
 "metadata": {
  "kernelspec": {
   "display_name": "test1",
   "language": "python",
   "name": "test1"
  },
  "language_info": {
   "codemirror_mode": {
    "name": "ipython",
    "version": 3
   },
   "file_extension": ".py",
   "mimetype": "text/x-python",
   "name": "python",
   "nbconvert_exporter": "python",
   "pygments_lexer": "ipython3",
   "version": "3.9.12"
  }
 },
 "nbformat": 4,
 "nbformat_minor": 5
}
